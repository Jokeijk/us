{
 "metadata": {
  "name": "",
  "signature": "sha256:2d01a1f99b8797be031443ba839fc102bb36b8c89dc13c6e8815297bdd698461"
 },
 "nbformat": 3,
 "nbformat_minor": 0,
 "worksheets": []
}